{
 "cells": [
  {
   "cell_type": "markdown",
   "id": "3fb6f152",
   "metadata": {},
   "source": [
    "# Packages"
   ]
  },
  {
   "cell_type": "code",
   "execution_count": 8,
   "id": "ca844e71",
   "metadata": {},
   "outputs": [],
   "source": [
    "import pandas as pd\n",
    "import matplotlib.pyplot as plt\n",
    "import numpy as np"
   ]
  },
  {
   "cell_type": "code",
   "execution_count": 3,
   "id": "2da21bf5",
   "metadata": {},
   "outputs": [],
   "source": [
    "import networkx as nx\n",
    "import ndlib.models.ModelConfig as mc\n",
    "import ndlib.models.epidemics as ep"
   ]
  },
  {
   "cell_type": "markdown",
   "id": "185615cc",
   "metadata": {},
   "source": [
    "# Read Data"
   ]
  },
  {
   "cell_type": "code",
   "execution_count": 4,
   "id": "760b324f",
   "metadata": {},
   "outputs": [],
   "source": [
    "Graph = nx.read_edgelist('Data/facebookData.txt',create_using=nx.Graph(),nodetype=int)"
   ]
  },
  {
   "cell_type": "markdown",
   "id": "21bcd006",
   "metadata": {},
   "source": [
    "# Read Decision Matrix"
   ]
  },
  {
   "cell_type": "code",
   "execution_count": 10,
   "id": "d0f7731e",
   "metadata": {},
   "outputs": [
    {
     "data": {
      "text/html": [
       "<div>\n",
       "<style scoped>\n",
       "    .dataframe tbody tr th:only-of-type {\n",
       "        vertical-align: middle;\n",
       "    }\n",
       "\n",
       "    .dataframe tbody tr th {\n",
       "        vertical-align: top;\n",
       "    }\n",
       "\n",
       "    .dataframe thead th {\n",
       "        text-align: right;\n",
       "    }\n",
       "</style>\n",
       "<table border=\"1\" class=\"dataframe\">\n",
       "  <thead>\n",
       "    <tr style=\"text-align: right;\">\n",
       "      <th></th>\n",
       "      <th>Node</th>\n",
       "      <th>DC</th>\n",
       "      <th>BC</th>\n",
       "      <th>CC</th>\n",
       "      <th>EC</th>\n",
       "      <th>S+</th>\n",
       "      <th>S-</th>\n",
       "      <th>C</th>\n",
       "    </tr>\n",
       "  </thead>\n",
       "  <tbody>\n",
       "    <tr>\n",
       "      <th>0</th>\n",
       "      <td>107</td>\n",
       "      <td>0.258791</td>\n",
       "      <td>0.480518</td>\n",
       "      <td>0.459699</td>\n",
       "      <td>2.606940e-04</td>\n",
       "      <td>0.019029</td>\n",
       "      <td>0.200396</td>\n",
       "      <td>0.913277</td>\n",
       "    </tr>\n",
       "    <tr>\n",
       "      <th>1</th>\n",
       "      <td>1684</td>\n",
       "      <td>0.196137</td>\n",
       "      <td>0.337797</td>\n",
       "      <td>0.393606</td>\n",
       "      <td>7.164260e-06</td>\n",
       "      <td>0.061948</td>\n",
       "      <td>0.141539</td>\n",
       "      <td>0.695566</td>\n",
       "    </tr>\n",
       "    <tr>\n",
       "      <th>2</th>\n",
       "      <td>1912</td>\n",
       "      <td>0.186974</td>\n",
       "      <td>0.229295</td>\n",
       "      <td>0.350947</td>\n",
       "      <td>9.540696e-02</td>\n",
       "      <td>0.102563</td>\n",
       "      <td>0.100961</td>\n",
       "      <td>0.496063</td>\n",
       "    </tr>\n",
       "    <tr>\n",
       "      <th>3</th>\n",
       "      <td>3437</td>\n",
       "      <td>0.135463</td>\n",
       "      <td>0.236115</td>\n",
       "      <td>0.314413</td>\n",
       "      <td>9.531613e-08</td>\n",
       "      <td>0.103349</td>\n",
       "      <td>0.098846</td>\n",
       "      <td>0.488865</td>\n",
       "    </tr>\n",
       "    <tr>\n",
       "      <th>4</th>\n",
       "      <td>0</td>\n",
       "      <td>0.085934</td>\n",
       "      <td>0.146306</td>\n",
       "      <td>0.353343</td>\n",
       "      <td>3.391796e-05</td>\n",
       "      <td>0.140349</td>\n",
       "      <td>0.061395</td>\n",
       "      <td>0.304321</td>\n",
       "    </tr>\n",
       "    <tr>\n",
       "      <th>5</th>\n",
       "      <td>1085</td>\n",
       "      <td>0.016345</td>\n",
       "      <td>0.149015</td>\n",
       "      <td>0.357852</td>\n",
       "      <td>3.164082e-06</td>\n",
       "      <td>0.142845</td>\n",
       "      <td>0.060458</td>\n",
       "      <td>0.297379</td>\n",
       "    </tr>\n",
       "    <tr>\n",
       "      <th>6</th>\n",
       "      <td>698</td>\n",
       "      <td>0.016840</td>\n",
       "      <td>0.115330</td>\n",
       "      <td>0.271189</td>\n",
       "      <td>1.116876e-09</td>\n",
       "      <td>0.155715</td>\n",
       "      <td>0.046803</td>\n",
       "      <td>0.231106</td>\n",
       "    </tr>\n",
       "    <tr>\n",
       "      <th>7</th>\n",
       "      <td>567</td>\n",
       "      <td>0.015602</td>\n",
       "      <td>0.096310</td>\n",
       "      <td>0.328881</td>\n",
       "      <td>9.932295e-06</td>\n",
       "      <td>0.163087</td>\n",
       "      <td>0.039165</td>\n",
       "      <td>0.193646</td>\n",
       "    </tr>\n",
       "    <tr>\n",
       "      <th>8</th>\n",
       "      <td>58</td>\n",
       "      <td>0.002972</td>\n",
       "      <td>0.084360</td>\n",
       "      <td>0.397402</td>\n",
       "      <td>5.898120e-04</td>\n",
       "      <td>0.168330</td>\n",
       "      <td>0.034346</td>\n",
       "      <td>0.169464</td>\n",
       "    </tr>\n",
       "    <tr>\n",
       "      <th>9</th>\n",
       "      <td>428</td>\n",
       "      <td>0.028479</td>\n",
       "      <td>0.064309</td>\n",
       "      <td>0.394837</td>\n",
       "      <td>5.990065e-04</td>\n",
       "      <td>0.174851</td>\n",
       "      <td>0.026805</td>\n",
       "      <td>0.132923</td>\n",
       "    </tr>\n",
       "  </tbody>\n",
       "</table>\n",
       "</div>"
      ],
      "text/plain": [
       "   Node        DC        BC        CC            EC        S+        S-  \\\n",
       "0   107  0.258791  0.480518  0.459699  2.606940e-04  0.019029  0.200396   \n",
       "1  1684  0.196137  0.337797  0.393606  7.164260e-06  0.061948  0.141539   \n",
       "2  1912  0.186974  0.229295  0.350947  9.540696e-02  0.102563  0.100961   \n",
       "3  3437  0.135463  0.236115  0.314413  9.531613e-08  0.103349  0.098846   \n",
       "4     0  0.085934  0.146306  0.353343  3.391796e-05  0.140349  0.061395   \n",
       "5  1085  0.016345  0.149015  0.357852  3.164082e-06  0.142845  0.060458   \n",
       "6   698  0.016840  0.115330  0.271189  1.116876e-09  0.155715  0.046803   \n",
       "7   567  0.015602  0.096310  0.328881  9.932295e-06  0.163087  0.039165   \n",
       "8    58  0.002972  0.084360  0.397402  5.898120e-04  0.168330  0.034346   \n",
       "9   428  0.028479  0.064309  0.394837  5.990065e-04  0.174851  0.026805   \n",
       "\n",
       "          C  \n",
       "0  0.913277  \n",
       "1  0.695566  \n",
       "2  0.496063  \n",
       "3  0.488865  \n",
       "4  0.304321  \n",
       "5  0.297379  \n",
       "6  0.231106  \n",
       "7  0.193646  \n",
       "8  0.169464  \n",
       "9  0.132923  "
      ]
     },
     "execution_count": 10,
     "metadata": {},
     "output_type": "execute_result"
    }
   ],
   "source": [
    "#Read our decision Matrix\n",
    "res = pd.read_csv(\"Data/res.csv\")\n",
    "res.head(10)"
   ]
  },
  {
   "cell_type": "markdown",
   "id": "43c43f8e",
   "metadata": {},
   "source": [
    "# The top-10 ranked nodes by Topsis and Centrality measures"
   ]
  },
  {
   "cell_type": "code",
   "execution_count": 11,
   "id": "693d3441",
   "metadata": {},
   "outputs": [],
   "source": [
    "#The top-10 ranked nodes by degree centrality (DC)\n",
    "DCR = res[[\"Node\", \"DC\"]]\n",
    "DCR = DCR.sort_values(by='DC', ascending=False)\n",
    "DCR.rename(columns = {'Node':'DCN'}, inplace=True)\n",
    "\n",
    "DCR[\"DCN\"].to_csv(\"Data/DCR.csv\",index=False)"
   ]
  },
  {
   "cell_type": "code",
   "execution_count": 12,
   "id": "f0475aa2",
   "metadata": {},
   "outputs": [],
   "source": [
    "#The top-10 ranked nodes by betweenness centrality (BC)\n",
    "BCR = res[[\"Node\", \"BC\"]]\n",
    "BCR = BCR.sort_values(by='BC', ascending=False)\n",
    "BCR.rename(columns = {'Node':'BCN'}, inplace=True)\n",
    "\n",
    "BCR[\"BCN\"].to_csv(\"Data/BCR.csv\",index=False)"
   ]
  },
  {
   "cell_type": "code",
   "execution_count": 13,
   "id": "4412b988",
   "metadata": {},
   "outputs": [],
   "source": [
    "#The top-10 ranked nodes by closeness centrality (CC)\n",
    "CCR = res[[\"Node\", \"CC\"]]\n",
    "CCR = CCR.sort_values(by='CC', ascending=False)\n",
    "CCR.rename(columns = {'Node':'CCN'}, inplace=True)\n",
    "\n",
    "CCR[\"CCN\"].to_csv(\"Data/CCR.csv\",index=False)"
   ]
  },
  {
   "cell_type": "code",
   "execution_count": 14,
   "id": "f23bf856",
   "metadata": {},
   "outputs": [],
   "source": [
    "#The top-10 ranked nodes by eigenvector centrality (EC)\n",
    "ECR = res[[\"Node\", \"EC\"]]\n",
    "ECR = ECR.sort_values(by='EC', ascending=False)\n",
    "ECR.rename(columns = {'Node':'ECN'}, inplace=True)\n",
    "\n",
    "ECR[\"ECN\"].to_csv(\"Data/ECR.csv\",index=False)"
   ]
  },
  {
   "cell_type": "code",
   "execution_count": 16,
   "id": "700c4624",
   "metadata": {},
   "outputs": [],
   "source": [
    "fac = pd.concat([pd.read_csv(\"Data/DCR.csv\"),pd.read_csv(\"Data/BCR.csv\"), pd.read_csv(\"Data/CCR.csv\"), pd.read_csv(\"Data/ECR.csv\")],axis=1)"
   ]
  },
  {
   "cell_type": "code",
   "execution_count": 17,
   "id": "3ea5981d",
   "metadata": {},
   "outputs": [
    {
     "data": {
      "text/html": [
       "<div>\n",
       "<style scoped>\n",
       "    .dataframe tbody tr th:only-of-type {\n",
       "        vertical-align: middle;\n",
       "    }\n",
       "\n",
       "    .dataframe tbody tr th {\n",
       "        vertical-align: top;\n",
       "    }\n",
       "\n",
       "    .dataframe thead th {\n",
       "        text-align: right;\n",
       "    }\n",
       "</style>\n",
       "<table border=\"1\" class=\"dataframe\">\n",
       "  <thead>\n",
       "    <tr style=\"text-align: right;\">\n",
       "      <th></th>\n",
       "      <th>DCN</th>\n",
       "      <th>BCN</th>\n",
       "      <th>CCN</th>\n",
       "      <th>ECN</th>\n",
       "      <th>Topsis</th>\n",
       "    </tr>\n",
       "  </thead>\n",
       "  <tbody>\n",
       "    <tr>\n",
       "      <th>0</th>\n",
       "      <td>107</td>\n",
       "      <td>107</td>\n",
       "      <td>107</td>\n",
       "      <td>1912</td>\n",
       "      <td>107</td>\n",
       "    </tr>\n",
       "    <tr>\n",
       "      <th>1</th>\n",
       "      <td>1684</td>\n",
       "      <td>1684</td>\n",
       "      <td>58</td>\n",
       "      <td>2266</td>\n",
       "      <td>1684</td>\n",
       "    </tr>\n",
       "    <tr>\n",
       "      <th>2</th>\n",
       "      <td>1912</td>\n",
       "      <td>3437</td>\n",
       "      <td>428</td>\n",
       "      <td>2206</td>\n",
       "      <td>1912</td>\n",
       "    </tr>\n",
       "    <tr>\n",
       "      <th>3</th>\n",
       "      <td>3437</td>\n",
       "      <td>1912</td>\n",
       "      <td>563</td>\n",
       "      <td>2233</td>\n",
       "      <td>3437</td>\n",
       "    </tr>\n",
       "    <tr>\n",
       "      <th>4</th>\n",
       "      <td>0</td>\n",
       "      <td>1085</td>\n",
       "      <td>1684</td>\n",
       "      <td>2464</td>\n",
       "      <td>0</td>\n",
       "    </tr>\n",
       "    <tr>\n",
       "      <th>5</th>\n",
       "      <td>2543</td>\n",
       "      <td>0</td>\n",
       "      <td>171</td>\n",
       "      <td>2142</td>\n",
       "      <td>1085</td>\n",
       "    </tr>\n",
       "    <tr>\n",
       "      <th>6</th>\n",
       "      <td>2347</td>\n",
       "      <td>698</td>\n",
       "      <td>348</td>\n",
       "      <td>2218</td>\n",
       "      <td>698</td>\n",
       "    </tr>\n",
       "    <tr>\n",
       "      <th>7</th>\n",
       "      <td>1888</td>\n",
       "      <td>567</td>\n",
       "      <td>483</td>\n",
       "      <td>2078</td>\n",
       "      <td>567</td>\n",
       "    </tr>\n",
       "    <tr>\n",
       "      <th>8</th>\n",
       "      <td>1800</td>\n",
       "      <td>58</td>\n",
       "      <td>414</td>\n",
       "      <td>2123</td>\n",
       "      <td>58</td>\n",
       "    </tr>\n",
       "    <tr>\n",
       "      <th>9</th>\n",
       "      <td>1663</td>\n",
       "      <td>428</td>\n",
       "      <td>376</td>\n",
       "      <td>1993</td>\n",
       "      <td>428</td>\n",
       "    </tr>\n",
       "  </tbody>\n",
       "</table>\n",
       "</div>"
      ],
      "text/plain": [
       "    DCN   BCN   CCN   ECN  Topsis\n",
       "0   107   107   107  1912     107\n",
       "1  1684  1684    58  2266    1684\n",
       "2  1912  3437   428  2206    1912\n",
       "3  3437  1912   563  2233    3437\n",
       "4     0  1085  1684  2464       0\n",
       "5  2543     0   171  2142    1085\n",
       "6  2347   698   348  2218     698\n",
       "7  1888   567   483  2078     567\n",
       "8  1800    58   414  2123      58\n",
       "9  1663   428   376  1993     428"
      ]
     },
     "execution_count": 17,
     "metadata": {},
     "output_type": "execute_result"
    }
   ],
   "source": [
    "#Concate the results\n",
    "facebook = pd.concat([fac,pd.read_csv(\"Data/Topsis.csv\")],axis=1)\n",
    "\n",
    "facebook = facebook.head(10)\n",
    "facebook"
   ]
  },
  {
   "cell_type": "markdown",
   "id": "e7176daf",
   "metadata": {},
   "source": [
    "# Application SI Model"
   ]
  },
  {
   "cell_type": "code",
   "execution_count": 43,
   "id": "69c77532",
   "metadata": {},
   "outputs": [],
   "source": [
    "def SI(nodes):\n",
    "    n = 4039\n",
    "    Lst = []\n",
    "    model = ep.SIModel(Graph)\n",
    "    cfg = mc.Configuration()\n",
    "    cfg.add_model_parameter('beta', 0.3)\n",
    "    cfg.add_model_initial_configuration('Infected', nodes)\n",
    "    model.set_initial_status(cfg)\n",
    "    res = pd.DataFrame(columns=['iteration', 'Nb_Susceptible', 'Nb_infected'])\n",
    "    for i in range(n):\n",
    "        iteration = model.iteration()\n",
    "        res.loc[len(res.index)] = [iteration['iteration'],iteration['node_count'][0], iteration['node_count'][1] ]\n",
    "        if iteration['node_count'][1] == n:\n",
    "            break\n",
    "    \n",
    "    Lst.append(res['iteration'].tolist())\n",
    "    Lst.append(res['Nb_Susceptible'].tolist())\n",
    "    Lst.append(res['Nb_infected'].tolist())\n",
    "                     \n",
    "    return Lst"
   ]
  },
  {
   "cell_type": "code",
   "execution_count": 44,
   "id": "e0dbae3a",
   "metadata": {},
   "outputs": [],
   "source": [
    "Rank_DC = set(facebook['DCN'])\n",
    "Rank_BC = set(facebook['BCN'])\n",
    "Rank_CC = set(facebook['CCN'])\n",
    "Rank_EC = set(facebook['ECN'])\n",
    "Rank_Topsis = set(facebook['Topsis'])"
   ]
  },
  {
   "cell_type": "code",
   "execution_count": 46,
   "id": "af301afd",
   "metadata": {},
   "outputs": [],
   "source": [
    "DClst = []\n",
    "BClst = []\n",
    "CClst = []\n",
    "EClst = []\n",
    "TOPSISlst = []\n",
    "for i in range(100000):\n",
    "    DClst.append(SI(Rank_DC))\n",
    "    BClst.append(SI(Rank_BC))\n",
    "    CClst.append(SI(Rank_CC))\n",
    "    EClst.append(SI(Rank_EC))\n",
    "    TOPSISlst.append(SI(Rank_Topsis))"
   ]
  },
  {
   "cell_type": "code",
   "execution_count": 47,
   "id": "e500dce9",
   "metadata": {},
   "outputs": [],
   "source": [
    "def Std_mean(lis):\n",
    "    dc = {}\n",
    "    sd = []\n",
    "    mean = []\n",
    "    for i in range(100000):\n",
    "        for j in range(len(lis[i][0])):\n",
    "            dc[lis[i][0][j]]=[]\n",
    "    for i in range(100000):\n",
    "        for j in range(len(lis[i][0])):\n",
    "            dc[lis[i][0][j]].append(lis[i][2][j])\n",
    "    for i in dc:\n",
    "        sd.append(np.std(dc[i]))\n",
    "        mean.append(np.mean(dc[i]))\n",
    "    return mean, sd"
   ]
  },
  {
   "cell_type": "code",
   "execution_count": 48,
   "id": "7e792810",
   "metadata": {},
   "outputs": [],
   "source": [
    "DCmean, DCsd = Std_mean(DClst)\n",
    "BCmean, BCsd = Std_mean(BClst)\n",
    "CCmean, CCsd = Std_mean(CClst)\n",
    "ECmean, ECsd = Std_mean(EClst)\n",
    "TOPSISmean, TOPSISsd = Std_mean(TOPSISlst)"
   ]
  },
  {
   "cell_type": "markdown",
   "id": "f293011c",
   "metadata": {},
   "source": [
    "# Plot the results"
   ]
  },
  {
   "cell_type": "code",
   "execution_count": 32,
   "id": "48e45136",
   "metadata": {},
   "outputs": [
    {
     "data": {
      "image/png": "[encoded data removed]",
      "text/plain": [
       "<Figure size 1080x648 with 4 Axes>"
      ]
     },
     "metadata": {
      "needs_background": "light"
     },
     "output_type": "display_data"
    }
   ],
   "source": [
    "#5000 Execution\n",
    "fig, ax = plt.subplots(2, 2,figsize=(15, 9))\n",
    "ax[0, 0].set_title('topsis VS degree centrality')\n",
    "ax[0, 0].plot(list(range(len(TOPSISmean))), TOPSISmean, label='Topsis')\n",
    "ax[0, 0].errorbar(list(range(len(TOPSISmean))), TOPSISmean, yerr=TOPSISsd, fmt ='.k')\n",
    "ax[0, 0].plot(list(range(len(DCmean))) , DCmean, label='DC')\n",
    "ax[0, 0].errorbar(list(range(len(DCmean))), DCmean, yerr=DCsd, fmt ='.k')\n",
    "ax[0, 0].legend()\n",
    "\n",
    "ax[1, 0].set_title('topsis VS closeness centrality')\n",
    "ax[1, 0].plot(list(range(len(CCmean))) , CCmean, label='CC')\n",
    "ax[1, 0].errorbar(list(range(len(CCmean))) , CCmean, yerr=CCsd, fmt ='.k')\n",
    "ax[1, 0].plot(list(range(len(TOPSISmean))), TOPSISmean, label='Topsis')\n",
    "ax[1, 0].errorbar(list(range(len(TOPSISmean))), TOPSISmean, yerr=TOPSISsd, fmt ='.k')\n",
    "ax[1, 0].legend()\n",
    "\n",
    "ax[0, 1].set_title('topsis vs eigenvector centrality')\n",
    "ax[0, 1].plot(list(range(len(ECmean))) , ECmean, label='EC')\n",
    "ax[0, 1].errorbar(list(range(len(ECmean))) , ECmean, yerr=ECsd, fmt ='.k')\n",
    "ax[0, 1].plot(list(range(len(TOPSISmean))), TOPSISmean, label='Topsis')\n",
    "ax[0, 1].errorbar(list(range(len(TOPSISmean))), TOPSISmean, yerr=TOPSISsd, fmt ='.k')\n",
    "ax[0, 1].legend()\n",
    "\n",
    "ax[1, 1].set_title('topsis vs betweeness centrality')\n",
    "ax[1, 1].plot(list(range(len(TOPSISmean))), TOPSISmean, label='BC')\n",
    "ax[1, 1].errorbar(list(range(len(TOPSISmean))), TOPSISmean, yerr=TOPSISsd, fmt ='.k')\n",
    "ax[1, 1].plot(list(range(len(BCmean))) , BCmean, label='Topsis')\n",
    "ax[1, 1].errorbar(list(range(len(BCmean))) , BCmean, yerr=BCsd, fmt ='.k')\n",
    "ax[1, 1].legend()\n",
    "\n",
    "\n",
    "fig.suptitle('Errorbar subsampling')\n",
    "plt.show()"
   ]
  },
  {
   "cell_type": "code",
   "execution_count": 49,
   "id": "f005a593",
   "metadata": {},
   "outputs": [
    {
     "data": {
      "image/png": "[encoded data removed]",
      "text/plain": [
       "<Figure size 1080x648 with 4 Axes>"
      ]
     },
     "metadata": {
      "needs_background": "light"
     },
     "output_type": "display_data"
    }
   ],
   "source": [
    "#100000 Execution\n",
    "fig, ax = plt.subplots(2, 2,figsize=(15, 9))\n",
    "ax[0, 0].set_title('topsis VS degree centrality')\n",
    "ax[0, 0].plot(list(range(len(TOPSISmean))), TOPSISmean, label='Topsis')\n",
    "ax[0, 0].errorbar(list(range(len(TOPSISmean))), TOPSISmean, yerr=TOPSISsd, fmt ='.k')\n",
    "ax[0, 0].plot(list(range(len(DCmean))) , DCmean, label='DC')\n",
    "ax[0, 0].errorbar(list(range(len(DCmean))), DCmean, yerr=DCsd, fmt ='.k')\n",
    "ax[0, 0].legend()\n",
    "\n",
    "ax[1, 0].set_title('topsis VS closeness centrality')\n",
    "ax[1, 0].plot(list(range(len(CCmean))) , CCmean, label='CC')\n",
    "ax[1, 0].errorbar(list(range(len(CCmean))) , CCmean, yerr=CCsd, fmt ='.k')\n",
    "ax[1, 0].plot(list(range(len(TOPSISmean))), TOPSISmean, label='Topsis')\n",
    "ax[1, 0].errorbar(list(range(len(TOPSISmean))), TOPSISmean, yerr=TOPSISsd, fmt ='.k')\n",
    "ax[1, 0].legend()\n",
    "\n",
    "ax[0, 1].set_title('topsis vs eigenvector centrality')\n",
    "ax[0, 1].plot(list(range(len(ECmean))) , ECmean, label='EC')\n",
    "ax[0, 1].errorbar(list(range(len(ECmean))) , ECmean, yerr=ECsd, fmt ='.k')\n",
    "ax[0, 1].plot(list(range(len(TOPSISmean))), TOPSISmean, label='Topsis')\n",
    "ax[0, 1].errorbar(list(range(len(TOPSISmean))), TOPSISmean, yerr=TOPSISsd, fmt ='.k')\n",
    "ax[0, 1].legend()\n",
    "\n",
    "ax[1, 1].set_title('topsis vs betweeness centrality')\n",
    "ax[1, 1].plot(list(range(len(TOPSISmean))), TOPSISmean, label='BC')\n",
    "ax[1, 1].errorbar(list(range(len(TOPSISmean))), TOPSISmean, yerr=TOPSISsd, fmt ='.k')\n",
    "ax[1, 1].plot(list(range(len(BCmean))) , BCmean, label='Topsis')\n",
    "ax[1, 1].errorbar(list(range(len(BCmean))) , BCmean, yerr=BCsd, fmt ='.k')\n",
    "ax[1, 1].legend()\n",
    "\n",
    "\n",
    "fig.suptitle('Errorbar subsampling')\n",
    "plt.show()"
   ]
  },
  {
   "cell_type": "code",
   "execution_count": null,
   "id": "eb38f427",
   "metadata": {},
   "outputs": [],
   "source": []
  }
 ],
 "metadata": {
  "kernelspec": {
   "display_name": "Python 3",
   "language": "python",
   "name": "python3"
  },
  "language_info": {
   "codemirror_mode": {
    "name": "ipython",
    "version": 3
   },
   "file_extension": ".py",
   "mimetype": "text/x-python",
   "name": "python",
   "nbconvert_exporter": "python",
   "pygments_lexer": "ipython3",
   "version": "3.8.8"
  }
 },
 "nbformat": 4,
 "nbformat_minor": 5
}
